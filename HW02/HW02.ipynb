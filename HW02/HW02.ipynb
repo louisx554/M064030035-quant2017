{
 "cells": [
  {
   "cell_type": "code",
   "execution_count": 7,
   "metadata": {
    "scrolled": true
   },
   "outputs": [
    {
     "name": "stdout",
     "output_type": "stream",
     "text": [
      "Hello world!\n",
      "This is Alice's greeting.\n",
      "This is Bob's greeting.\n",
      "param1 plus secondParam is equal to res\n",
      "foo\n",
      "==========\n",
      "Current working directory isC:\\Users\\Louisx2310\n",
      "I like to eat apple\n",
      "I like to eat orange\n",
      "I like to eat cats\n",
      "Count to ten:\n",
      "1\n",
      "2\n",
      "3\n",
      "4\n",
      "5\n",
      "6\n",
      "7\n",
      "8\n",
      "9\n",
      "10\n"
     ]
    }
   ],
   "source": [
    "import os                                                             #匯入其他程式模組 os為模組名稱，表示os.py\n",
    "def main():                                                           #聲明函數的格式，main為慣例，非必須\n",
    "    print (\"Hello world!\")                                            #輸出字元，不用大括號，但需要空格，多少格都行，但習慣空4格\n",
    "    print (\"This is Alice's greeting.\")                               #print後會自動換行，句尾不用分號\n",
    "    print ('This is Bob\\'s greeting.')                                #引號單雙沒有差別，但前後要一致\n",
    "    foo(5,10)                                                         #調用函數\n",
    "    print ('=' * 10)                                                  #輸出10個'='，==========\n",
    "    print (\"Current working directory is\" + os.getcwd())              #輸出字元，'+'表示字串連接，' os.getcwd()'表示在os.module 調用函數\n",
    "    counter = 0                                                       #定義變數與變數值跳動時增加的幅度\n",
    "    counter += 1\n",
    "    food = ['apple','orange','cats']                                  #設定目錄，內部可以有其他類型的資料，包括其他目錄\n",
    "    for i in food:                                                    #for 迴圈，'i'逐次從food目錄取出值\n",
    "     print (\"I like to eat \" + i)                                     #輸出字串，單行區塊，當空格往回走，表示此區塊執行結束\n",
    "    print (\"Count to ten:\")                                           \n",
    "    for i in range(1, 11):                                            #range函數有許多寫法，有range(1,11)及range(11),表示'1,2,3,4,5,6,7,8,9,10',不要忘記句尾的分號\n",
    "     print (i)\n",
    "def foo(param1, secondParam):                                        #定義方程式，句尾也不要忘記分號\n",
    "    res = param1 + secondParam\n",
    "    print ('{0} plus {1} is equal to {2}'.format('param1' , 'secondParam', 'res')) #與C相同的字串連接功能\n",
    "    if res < 50:                                                                   #對照與C相同的操作\n",
    "     print (\"foo\")\n",
    "    elif (res >= 50) and ((param1 == 42) or (secondParam == 24)):                  #布林字元，and表示'且'，or表示'或'\n",
    "     print (\"bar\")                                                                 #分號必須在 def,for,while,it,elif and else之後 \n",
    "    else:\n",
    "     print (\"moo\")\n",
    "    \n",
    "    return res # This is a one-line comment.                                      #單行註解\n",
    "'''A multi-line string, but can also be a multi-line comment.'''                  #多行註解不會影響程式運算，但要小心空格\n",
    "\n",
    "if __name__ == '__main__' :                                                       #結束直接輸入程式，不需要用大括號\n",
    "     main()                                                                       #此行表示我們的套件是被匯入執行還是直接執行，若是匯入執行，'__main__'會顯示套件的的名字。若是直接執行則顯示'__main__'"
   ]
  },
  {
   "cell_type": "code",
   "execution_count": null,
   "metadata": {
    "collapsed": true
   },
   "outputs": [],
   "source": []
  }
 ],
 "metadata": {
  "kernelspec": {
   "display_name": "Python 3",
   "language": "python",
   "name": "python3"
  },
  "language_info": {
   "codemirror_mode": {
    "name": "ipython",
    "version": 3
   },
   "file_extension": ".py",
   "mimetype": "text/x-python",
   "name": "python",
   "nbconvert_exporter": "python",
   "pygments_lexer": "ipython3",
   "version": "3.6.1"
  }
 },
 "nbformat": 4,
 "nbformat_minor": 2
}
